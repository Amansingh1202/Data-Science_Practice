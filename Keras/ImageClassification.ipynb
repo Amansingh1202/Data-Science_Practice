{
  "nbformat": 4,
  "nbformat_minor": 0,
  "metadata": {
    "colab": {
      "name": "ImageClassification.ipynb",
      "provenance": [],
      "collapsed_sections": [],
      "mount_file_id": "1gUgDQhRdD-2TS2eQj86asgKIgyzRhwXo",
      "authorship_tag": "ABX9TyN+CxoWadMI2kMFJo1lcFWp"
    },
    "kernelspec": {
      "name": "python3",
      "display_name": "Python 3"
    },
    "accelerator": "GPU"
  },
  "cells": [
    {
      "cell_type": "code",
      "metadata": {
        "id": "b0xib2pcKYxV",
        "colab_type": "code",
        "colab": {}
      },
      "source": [
        "import os ,shutil"
      ],
      "execution_count": 58,
      "outputs": []
    },
    {
      "cell_type": "code",
      "metadata": {
        "id": "YXTWNtBbMO7U",
        "colab_type": "code",
        "colab": {}
      },
      "source": [
        "original_dataset_dir = 'drive/My Drive/pets'\n",
        "base_dir = 'drive/My Drive/Data'\n",
        "os.mkdir(base_dir)"
      ],
      "execution_count": 60,
      "outputs": []
    },
    {
      "cell_type": "code",
      "metadata": {
        "id": "2-JSNwh6Mfnx",
        "colab_type": "code",
        "colab": {}
      },
      "source": [
        "train_dir = os.path.join(base_dir,'train')\n",
        "os.mkdir(train_dir)\n",
        "validation_dir = os.path.join(base_dir,'validation')\n",
        "os.mkdir(validation_dir)\n",
        "test_dir = os.path.join(base_dir,'test')\n",
        "os.mkdir(test_dir)"
      ],
      "execution_count": 61,
      "outputs": []
    },
    {
      "cell_type": "code",
      "metadata": {
        "id": "8QzRnPOxOvY_",
        "colab_type": "code",
        "colab": {}
      },
      "source": [
        "train_cats_dir = os.path.join(train_dir,'cats')\n",
        "os.mkdir(train_cats_dir)\n",
        "train_dogs_dir = os.path.join(train_dir,'dogs')\n",
        "os.mkdir(train_dogs_dir)\n",
        "validation_cats_dir = os.path.join(validation_dir,'cats')\n",
        "os.mkdir(validation_cats_dir)\n",
        "validation_dogs_dir = os.path.join(validation_dir,'dogs')\n",
        "os.mkdir(validation_dogs_dir)\n",
        "test_cats_dir = os.path.join(test_dir,'cats')\n",
        "os.mkdir(test_cats_dir)\n",
        "test_dogs_dir = os.path.join(test_dir,'dogs')\n",
        "os.mkdir(test_dogs_dir)"
      ],
      "execution_count": 62,
      "outputs": []
    },
    {
      "cell_type": "code",
      "metadata": {
        "id": "YIGnvuwEQB35",
        "colab_type": "code",
        "colab": {}
      },
      "source": [
        "fnames = ['cat ({}).jpg'.format(i) for i in range(1,26)]\n",
        "fnames1 = ['cat ({}).jpeg'.format(i) for i in range(1,26)]\n",
        "for fname in fnames:\n",
        "  src = os.path.join(os.path.join(original_dataset_dir,'cats'),fname)\n",
        "  dest = os.path.join(train_cats_dir,fname)\n",
        "  shutil.copyfile(src,dest)\n",
        "for fname in fnames1:\n",
        "  src1 = os.path.join(os.path.join(original_dataset_dir,'cats'),fname)\n",
        "  dest1 = os.path.join(train_cats_dir,fname)\n",
        "  shutil.copyfile(src1,dest1)"
      ],
      "execution_count": 63,
      "outputs": []
    },
    {
      "cell_type": "code",
      "metadata": {
        "id": "-g16QZ1jTFXf",
        "colab_type": "code",
        "colab": {}
      },
      "source": [
        "fnames2 = ['cat ({}).jpg'.format(i) for i in range(26,37)]\n",
        "fnames3 = ['cat ({}).jpeg'.format(i) for i in range(26,33)]\n",
        "for fname in fnames2:\n",
        "  src = os.path.join(os.path.join(original_dataset_dir,'cats'),fname)\n",
        "  dest = os.path.join(validation_cats_dir,fname)\n",
        "  shutil.copyfile(src,dest)\n",
        "for fname in fnames3:\n",
        "  src1 = os.path.join(os.path.join(original_dataset_dir,'cats'),fname)\n",
        "  dest1 = os.path.join(validation_cats_dir,fname)\n",
        "  shutil.copyfile(src1,dest1)"
      ],
      "execution_count": 64,
      "outputs": []
    },
    {
      "cell_type": "code",
      "metadata": {
        "id": "hvMo8UfYYAnT",
        "colab_type": "code",
        "colab": {}
      },
      "source": [
        "fnames4 = ['cat ({}).jpeg'.format(i) for i in range(33,53)]\n",
        "for fname in fnames4:\n",
        "  src = os.path.join(os.path.join(original_dataset_dir,'cats'),fname)\n",
        "  dest = os.path.join(test_cats_dir,fname)\n",
        "  shutil.copyfile(src,dest)"
      ],
      "execution_count": 65,
      "outputs": []
    },
    {
      "cell_type": "code",
      "metadata": {
        "id": "LTSTI7PZZ3ZM",
        "colab_type": "code",
        "colab": {}
      },
      "source": [
        "fnames6 = ['dog ({}).jpeg'.format(i) for i in range(1,41) if i!=3]\n",
        "for fname in fnames6:\n",
        "  src1 = os.path.join(os.path.join(original_dataset_dir,'dogs'),fname)\n",
        "  dest1 = os.path.join(train_dogs_dir,fname)\n",
        "  shutil.copyfile(src1,dest1)"
      ],
      "execution_count": 66,
      "outputs": []
    },
    {
      "cell_type": "code",
      "metadata": {
        "id": "0D-MvJVpakc8",
        "colab_type": "code",
        "colab": {}
      },
      "source": [
        "fnames7 = ['dog ({}).jpeg'.format(i) for i in range(41,62)]\n",
        "for fname in fnames7:\n",
        "  src = os.path.join(os.path.join(original_dataset_dir,'dogs'),fname)\n",
        "  dest = os.path.join(validation_dogs_dir,fname)\n",
        "  shutil.copyfile(src,dest)"
      ],
      "execution_count": 67,
      "outputs": []
    },
    {
      "cell_type": "code",
      "metadata": {
        "id": "BCbS2tf8b9iz",
        "colab_type": "code",
        "colab": {}
      },
      "source": [
        "fnames8 = ['dog ({}).jpeg'.format(i) for i in range(62,84)]\n",
        "for fname in fnames8:\n",
        "  src = os.path.join(os.path.join(original_dataset_dir,'dogs'),fname)\n",
        "  dest = os.path.join(test_dogs_dir,fname)\n",
        "  shutil.copyfile(src,dest)"
      ],
      "execution_count": 68,
      "outputs": []
    },
    {
      "cell_type": "code",
      "metadata": {
        "id": "toII07t3cKQ0",
        "colab_type": "code",
        "colab": {}
      },
      "source": [
        "from keras import layers\n",
        "from keras import models\n",
        "model = models.Sequential()\n",
        "model.add(layers.Conv2D(32,(3,3),activation='relu',input_shape=(150,150,3)))\n",
        "model.add(layers.MaxPooling2D((2,2)))\n",
        "model.add(layers.Conv2D(64,(3,3),activation='relu'))\n",
        "model.add(layers.MaxPooling2D((2,2)))\n",
        "model.add(layers.Conv2D(128,(3,3),activation='relu'))\n",
        "model.add(layers.MaxPooling2D((2,2)))\n",
        "model.add(layers.Conv2D(128,(3,3),activation='relu'))\n",
        "model.add(layers.MaxPooling2D((2,2)))\n",
        "model.add(layers.Flatten())\n",
        "model.add(layers.Dense(512,activation='relu'))\n",
        "model.add(layers.Dense(512,activation='relu'))"
      ],
      "execution_count": 71,
      "outputs": []
    },
    {
      "cell_type": "code",
      "metadata": {
        "id": "8ys7h4M5dbbj",
        "colab_type": "code",
        "colab": {
          "base_uri": "https://localhost:8080/",
          "height": 562
        },
        "outputId": "f331955c-2837-4dcf-9bcb-f60ad618ec36"
      },
      "source": [
        "model.summary()"
      ],
      "execution_count": 72,
      "outputs": [
        {
          "output_type": "stream",
          "text": [
            "Model: \"sequential_1\"\n",
            "_________________________________________________________________\n",
            "Layer (type)                 Output Shape              Param #   \n",
            "=================================================================\n",
            "conv2d_4 (Conv2D)            (None, 148, 148, 32)      896       \n",
            "_________________________________________________________________\n",
            "max_pooling2d_4 (MaxPooling2 (None, 74, 74, 32)        0         \n",
            "_________________________________________________________________\n",
            "conv2d_5 (Conv2D)            (None, 72, 72, 64)        18496     \n",
            "_________________________________________________________________\n",
            "max_pooling2d_5 (MaxPooling2 (None, 36, 36, 64)        0         \n",
            "_________________________________________________________________\n",
            "conv2d_6 (Conv2D)            (None, 34, 34, 128)       73856     \n",
            "_________________________________________________________________\n",
            "max_pooling2d_6 (MaxPooling2 (None, 17, 17, 128)       0         \n",
            "_________________________________________________________________\n",
            "conv2d_7 (Conv2D)            (None, 15, 15, 128)       147584    \n",
            "_________________________________________________________________\n",
            "max_pooling2d_7 (MaxPooling2 (None, 7, 7, 128)         0         \n",
            "_________________________________________________________________\n",
            "flatten (Flatten)            (None, 6272)              0         \n",
            "_________________________________________________________________\n",
            "dense (Dense)                (None, 512)               3211776   \n",
            "_________________________________________________________________\n",
            "dense_1 (Dense)              (None, 512)               262656    \n",
            "=================================================================\n",
            "Total params: 3,715,264\n",
            "Trainable params: 3,715,264\n",
            "Non-trainable params: 0\n",
            "_________________________________________________________________\n"
          ],
          "name": "stdout"
        }
      ]
    },
    {
      "cell_type": "code",
      "metadata": {
        "id": "2ZNgyVcxemkH",
        "colab_type": "code",
        "colab": {}
      },
      "source": [
        "from keras import optimizers\n",
        "model.compile(loss='binary_crossentropy',optimizer=optimizers.RMSprop(lr=1e-4),metrics=['acc'])"
      ],
      "execution_count": 73,
      "outputs": []
    },
    {
      "cell_type": "code",
      "metadata": {
        "id": "5RqT7fz_e7gK",
        "colab_type": "code",
        "colab": {}
      },
      "source": [
        ""
      ],
      "execution_count": null,
      "outputs": []
    }
  ]
}
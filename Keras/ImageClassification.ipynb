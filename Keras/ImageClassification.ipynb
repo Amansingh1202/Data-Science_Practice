{
  "nbformat": 4,
  "nbformat_minor": 0,
  "metadata": {
    "colab": {
      "name": "ImageClassification.ipynb",
      "provenance": [],
      "collapsed_sections": [],
      "mount_file_id": "1gUgDQhRdD-2TS2eQj86asgKIgyzRhwXo",
      "authorship_tag": "ABX9TyOnLrXOcPJdZl13BEDOyLz4",
      "include_colab_link": true
    },
    "kernelspec": {
      "name": "python3",
      "display_name": "Python 3"
    },
    "accelerator": "GPU"
  },
  "cells": [
    {
      "cell_type": "markdown",
      "metadata": {
        "id": "view-in-github",
        "colab_type": "text"
      },
      "source": [
        "<a href=\"https://colab.research.google.com/github/Amansingh1202/Data-Science_Practice/blob/master/Keras/ImageClassification.ipynb\" target=\"_parent\"><img src=\"https://colab.research.google.com/assets/colab-badge.svg\" alt=\"Open In Colab\"/></a>"
      ]
    },
    {
      "cell_type": "code",
      "metadata": {
        "id": "b0xib2pcKYxV",
        "colab_type": "code",
        "colab": {}
      },
      "source": [
        "import os ,shutil"
      ],
      "execution_count": 3,
      "outputs": []
    },
    {
      "cell_type": "code",
      "metadata": {
        "id": "YXTWNtBbMO7U",
        "colab_type": "code",
        "colab": {}
      },
      "source": [
        "original_dataset_dir = 'drive/My Drive/pets'\n",
        "base_dir = 'drive/My Drive/Data'\n",
        "os.mkdir(base_dir)"
      ],
      "execution_count": 4,
      "outputs": []
    },
    {
      "cell_type": "code",
      "metadata": {
        "id": "2-JSNwh6Mfnx",
        "colab_type": "code",
        "colab": {}
      },
      "source": [
        "train_dir = os.path.join(base_dir,'train')\n",
        "os.mkdir(train_dir)\n",
        "validation_dir = os.path.join(base_dir,'validation')\n",
        "os.mkdir(validation_dir)\n",
        "test_dir = os.path.join(base_dir,'test')\n",
        "os.mkdir(test_dir)"
      ],
      "execution_count": 5,
      "outputs": []
    },
    {
      "cell_type": "code",
      "metadata": {
        "id": "8QzRnPOxOvY_",
        "colab_type": "code",
        "colab": {}
      },
      "source": [
        "train_cats_dir = os.path.join(train_dir,'cats')\n",
        "os.mkdir(train_cats_dir)\n",
        "train_dogs_dir = os.path.join(train_dir,'dogs')\n",
        "os.mkdir(train_dogs_dir)\n",
        "validation_cats_dir = os.path.join(validation_dir,'cats')\n",
        "os.mkdir(validation_cats_dir)\n",
        "validation_dogs_dir = os.path.join(validation_dir,'dogs')\n",
        "os.mkdir(validation_dogs_dir)\n",
        "test_cats_dir = os.path.join(test_dir,'cats')\n",
        "os.mkdir(test_cats_dir)\n",
        "test_dogs_dir = os.path.join(test_dir,'dogs')\n",
        "os.mkdir(test_dogs_dir)"
      ],
      "execution_count": 6,
      "outputs": []
    },
    {
      "cell_type": "code",
      "metadata": {
        "id": "YIGnvuwEQB35",
        "colab_type": "code",
        "colab": {}
      },
      "source": [
        "fnames = ['cat ({}).jpg'.format(i) for i in range(1,26)]\n",
        "fnames1 = ['cat ({}).jpeg'.format(i) for i in range(1,26)]\n",
        "for fname in fnames:\n",
        "  src = os.path.join(os.path.join(original_dataset_dir,'cats'),fname)\n",
        "  dest = os.path.join(train_cats_dir,fname)\n",
        "  shutil.copyfile(src,dest)\n",
        "for fname in fnames1:\n",
        "  src1 = os.path.join(os.path.join(original_dataset_dir,'cats'),fname)\n",
        "  dest1 = os.path.join(train_cats_dir,fname)\n",
        "  shutil.copyfile(src1,dest1)"
      ],
      "execution_count": 7,
      "outputs": []
    },
    {
      "cell_type": "code",
      "metadata": {
        "id": "-g16QZ1jTFXf",
        "colab_type": "code",
        "colab": {}
      },
      "source": [
        "fnames2 = ['cat ({}).jpg'.format(i) for i in range(26,37)]\n",
        "fnames3 = ['cat ({}).jpeg'.format(i) for i in range(26,33)]\n",
        "for fname in fnames2:\n",
        "  src = os.path.join(os.path.join(original_dataset_dir,'cats'),fname)\n",
        "  dest = os.path.join(validation_cats_dir,fname)\n",
        "  shutil.copyfile(src,dest)\n",
        "for fname in fnames3:\n",
        "  src1 = os.path.join(os.path.join(original_dataset_dir,'cats'),fname)\n",
        "  dest1 = os.path.join(validation_cats_dir,fname)\n",
        "  shutil.copyfile(src1,dest1)"
      ],
      "execution_count": 8,
      "outputs": []
    },
    {
      "cell_type": "code",
      "metadata": {
        "id": "hvMo8UfYYAnT",
        "colab_type": "code",
        "colab": {}
      },
      "source": [
        "fnames4 = ['cat ({}).jpeg'.format(i) for i in range(33,53)]\n",
        "for fname in fnames4:\n",
        "  src = os.path.join(os.path.join(original_dataset_dir,'cats'),fname)\n",
        "  dest = os.path.join(test_cats_dir,fname)\n",
        "  shutil.copyfile(src,dest)"
      ],
      "execution_count": 9,
      "outputs": []
    },
    {
      "cell_type": "code",
      "metadata": {
        "id": "LTSTI7PZZ3ZM",
        "colab_type": "code",
        "colab": {}
      },
      "source": [
        "fnames6 = ['dog ({}).jpeg'.format(i) for i in range(1,41) if i!=3]\n",
        "for fname in fnames6:\n",
        "  src1 = os.path.join(os.path.join(original_dataset_dir,'dogs'),fname)\n",
        "  dest1 = os.path.join(train_dogs_dir,fname)\n",
        "  shutil.copyfile(src1,dest1)"
      ],
      "execution_count": 10,
      "outputs": []
    },
    {
      "cell_type": "code",
      "metadata": {
        "id": "0D-MvJVpakc8",
        "colab_type": "code",
        "colab": {}
      },
      "source": [
        "fnames7 = ['dog ({}).jpeg'.format(i) for i in range(41,62)]\n",
        "for fname in fnames7:\n",
        "  src = os.path.join(os.path.join(original_dataset_dir,'dogs'),fname)\n",
        "  dest = os.path.join(validation_dogs_dir,fname)\n",
        "  shutil.copyfile(src,dest)"
      ],
      "execution_count": 11,
      "outputs": []
    },
    {
      "cell_type": "code",
      "metadata": {
        "id": "BCbS2tf8b9iz",
        "colab_type": "code",
        "colab": {}
      },
      "source": [
        "\n",
        "fnames8 = ['dog ({}).jpeg'.format(i) for i in range(62,84)]\n",
        "for fname in fnames8:\n",
        "  src = os.path.join(os.path.join(original_dataset_dir,'dogs'),fname)\n",
        "  dest = os.path.join(test_dogs_dir,fname)\n",
        "  shutil.copyfile(src,dest)"
      ],
      "execution_count": 12,
      "outputs": []
    },
    {
      "cell_type": "code",
      "metadata": {
        "id": "toII07t3cKQ0",
        "colab_type": "code",
        "colab": {}
      },
      "source": [
        "from keras import layers\n",
        "from keras import models\n",
        "model = models.Sequential()\n",
        "model.add(layers.Conv2D(32,(3,3),activation='relu',input_shape=(150,150,3)))\n",
        "model.add(layers.MaxPooling2D((2,2)))\n",
        "model.add(layers.Conv2D(64,(3,3),activation='relu'))\n",
        "model.add(layers.MaxPooling2D((2,2)))\n",
        "model.add(layers.Conv2D(128,(3,3),activation='relu'))\n",
        "model.add(layers.MaxPooling2D((2,2)))\n",
        "model.add(layers.Conv2D(128,(3,3),activation='relu'))\n",
        "model.add(layers.MaxPooling2D((2,2)))\n",
        "model.add(layers.Flatten())\n",
        "model.add(layers.Dense(512,activation='relu'))\n",
        "model.add(layers.Dense(512,activation='relu'))"
      ],
      "execution_count": 13,
      "outputs": []
    },
    {
      "cell_type": "code",
      "metadata": {
        "id": "8ys7h4M5dbbj",
        "colab_type": "code",
        "colab": {
          "base_uri": "https://localhost:8080/",
          "height": 562
        },
        "outputId": "02225f72-61c9-47e4-c553-b46ec4282d81"
      },
      "source": [
        "model.summary()"
      ],
      "execution_count": 14,
      "outputs": [
        {
          "output_type": "stream",
          "text": [
            "Model: \"sequential\"\n",
            "_________________________________________________________________\n",
            "Layer (type)                 Output Shape              Param #   \n",
            "=================================================================\n",
            "conv2d (Conv2D)              (None, 148, 148, 32)      896       \n",
            "_________________________________________________________________\n",
            "max_pooling2d (MaxPooling2D) (None, 74, 74, 32)        0         \n",
            "_________________________________________________________________\n",
            "conv2d_1 (Conv2D)            (None, 72, 72, 64)        18496     \n",
            "_________________________________________________________________\n",
            "max_pooling2d_1 (MaxPooling2 (None, 36, 36, 64)        0         \n",
            "_________________________________________________________________\n",
            "conv2d_2 (Conv2D)            (None, 34, 34, 128)       73856     \n",
            "_________________________________________________________________\n",
            "max_pooling2d_2 (MaxPooling2 (None, 17, 17, 128)       0         \n",
            "_________________________________________________________________\n",
            "conv2d_3 (Conv2D)            (None, 15, 15, 128)       147584    \n",
            "_________________________________________________________________\n",
            "max_pooling2d_3 (MaxPooling2 (None, 7, 7, 128)         0         \n",
            "_________________________________________________________________\n",
            "flatten (Flatten)            (None, 6272)              0         \n",
            "_________________________________________________________________\n",
            "dense (Dense)                (None, 512)               3211776   \n",
            "_________________________________________________________________\n",
            "dense_1 (Dense)              (None, 512)               262656    \n",
            "=================================================================\n",
            "Total params: 3,715,264\n",
            "Trainable params: 3,715,264\n",
            "Non-trainable params: 0\n",
            "_________________________________________________________________\n"
          ],
          "name": "stdout"
        }
      ]
    },
    {
      "cell_type": "code",
      "metadata": {
        "id": "2ZNgyVcxemkH",
        "colab_type": "code",
        "colab": {}
      },
      "source": [
        "from keras import optimizers\n",
        "model.compile(loss='binary_crossentropy',optimizer=optimizers.RMSprop(lr=1e-4),metrics=['acc'])"
      ],
      "execution_count": 15,
      "outputs": []
    },
    {
      "cell_type": "code",
      "metadata": {
        "id": "5RqT7fz_e7gK",
        "colab_type": "code",
        "colab": {
          "base_uri": "https://localhost:8080/",
          "height": 53
        },
        "outputId": "540f6453-a081-4b7d-c8a8-b069bc7f920b"
      },
      "source": [
        "from keras.preprocessing.image import ImageDataGenerator\n",
        "train_datagen = ImageDataGenerator(rescale=1./255)\n",
        "test_datagen = ImageDataGenerator(rescale=1./255)\n",
        "train_generator = train_datagen.flow_from_directory(\n",
        "    train_dir,\n",
        "    target_size=(150,150),\n",
        "    batch_size=5,\n",
        "    class_mode='binary'\n",
        ")\n",
        "validation_generator = train_datagen.flow_from_directory(\n",
        "    validation_dir,\n",
        "    target_size=(150,150),\n",
        "    batch_size=5,\n",
        "    class_mode='binary'\n",
        ")"
      ],
      "execution_count": 16,
      "outputs": [
        {
          "output_type": "stream",
          "text": [
            "Found 89 images belonging to 2 classes.\n",
            "Found 39 images belonging to 2 classes.\n"
          ],
          "name": "stdout"
        }
      ]
    },
    {
      "cell_type": "code",
      "metadata": {
        "id": "EbeMefwYfD_5",
        "colab_type": "code",
        "colab": {
          "base_uri": "https://localhost:8080/",
          "height": 346
        },
        "outputId": "93b0c4fd-4df5-43a5-8f95-2ea24ee2be2e"
      },
      "source": [
        "history = model.fit_generator(\n",
        "    train_generator,\n",
        "    steps_per_epoch=11,\n",
        "    epochs=8,\n",
        "    validation_data=validation_generator,\n",
        "    validation_steps=50\n",
        ")"
      ],
      "execution_count": 18,
      "outputs": [
        {
          "output_type": "stream",
          "text": [
            "Epoch 1/8\n",
            "11/11 [==============================] - ETA: 0s - loss: 2.7725 - acc: 0.0000e+00WARNING:tensorflow:Your input ran out of data; interrupting training. Make sure that your dataset or generator can generate at least `steps_per_epoch * epochs` batches (in this case, 50 batches). You may need to use the repeat() function when building your dataset.\n",
            "11/11 [==============================] - 3s 241ms/step - loss: 2.7725 - acc: 0.0000e+00 - val_loss: 3.3371 - val_acc: 0.0000e+00\n",
            "Epoch 2/8\n",
            "11/11 [==============================] - 1s 71ms/step - loss: 2.6729 - acc: 0.0000e+00\n",
            "Epoch 3/8\n",
            "11/11 [==============================] - 1s 69ms/step - loss: 2.9991 - acc: 0.0000e+00\n",
            "Epoch 4/8\n",
            "11/11 [==============================] - 1s 73ms/step - loss: 2.5729 - acc: 0.0000e+00\n",
            "Epoch 5/8\n",
            "11/11 [==============================] - 1s 92ms/step - loss: 2.6339 - acc: 0.0000e+00\n",
            "Epoch 6/8\n",
            "11/11 [==============================] - 1s 67ms/step - loss: 2.6328 - acc: 0.0000e+00\n",
            "Epoch 7/8\n",
            "11/11 [==============================] - 1s 111ms/step - loss: 1.9418 - acc: 0.0000e+00\n",
            "Epoch 8/8\n",
            "11/11 [==============================] - 1s 96ms/step - loss: 2.4996 - acc: 0.0000e+00\n"
          ],
          "name": "stdout"
        }
      ]
    },
    {
      "cell_type": "code",
      "metadata": {
        "id": "rx2gFj5-hTbT",
        "colab_type": "code",
        "colab": {}
      },
      "source": [
        "model.save('cats_and_dog_1.h5')"
      ],
      "execution_count": 19,
      "outputs": []
    },
    {
      "cell_type": "code",
      "metadata": {
        "id": "VhOgcEugiP9n",
        "colab_type": "code",
        "colab": {
          "base_uri": "https://localhost:8080/",
          "height": 545
        },
        "outputId": "c356f07b-0ee3-4d06-e184-f1f9afeaf767"
      },
      "source": [
        "import matplotlib.pyplot as plt\n",
        "\n",
        "acc = history.history['acc']\n",
        "val_acc = history.history['val_acc']\n",
        "loss = history.history['loss']\n",
        "val_loss = history.history['val_loss']\n",
        "epochs = range(1,len(acc)+1)\n",
        "plt.plot(epochs,acc,'bo',label='Training acc')\n",
        "plt.plot(8,val_acc,'b',label='Validation acc')\n",
        "plt.title('Training and validation accuracy')\n",
        "plt.legend()\n",
        "plt.figure()\n",
        "plt.plot(epochs,loss,'bo',label='Training loss')\n",
        "plt.plot(8,val_loss,'b',label='Validation loss')\n",
        "plt.title('Training and validation loss')\n",
        "plt.legend()\n",
        "plt.show()"
      ],
      "execution_count": 25,
      "outputs": [
        {
          "output_type": "display_data",
          "data": {
            "image/png": "[encoded data removed]",
            "text/plain": [
              "<Figure size 432x288 with 1 Axes>"
            ]
          },
          "metadata": {
            "tags": [],
            "needs_background": "light"
          }
        },
        {
          "output_type": "display_data",
          "data": {
            "image/png": "[encoded data removed]",
            "text/plain": [
              "<Figure size 432x288 with 1 Axes>"
            ]
          },
          "metadata": {
            "tags": [],
            "needs_background": "light"
          }
        }
      ]
    },
    {
      "cell_type": "code",
      "metadata": {
        "id": "1CwUtSJTjE8V",
        "colab_type": "code",
        "colab": {}
      },
      "source": [
        ""
      ],
      "execution_count": null,
      "outputs": []
    }
  ]
}
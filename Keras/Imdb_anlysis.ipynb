{
  "nbformat": 4,
  "nbformat_minor": 0,
  "metadata": {
    "colab": {
      "name": "Imdb_anlysis.ipynb",
      "provenance": [],
      "authorship_tag": "ABX9TyPU9o8VXLNqAN4vY/pMl8k3",
      "include_colab_link": true
    },
    "kernelspec": {
      "name": "python3",
      "display_name": "Python 3"
    },
    "accelerator": "TPU"
  },
  "cells": [
    {
      "cell_type": "markdown",
      "metadata": {
        "id": "view-in-github",
        "colab_type": "text"
      },
      "source": [
        "<a href=\"https://colab.research.google.com/github/Amansingh1202/Data-Science_Practice/blob/master/Keras/Imdb_anlysis.ipynb\" target=\"_parent\"><img src=\"https://colab.research.google.com/assets/colab-badge.svg\" alt=\"Open In Colab\"/></a>"
      ]
    },
    {
      "cell_type": "code",
      "metadata": {
        "id": "_eIy6jF_2hkQ",
        "colab_type": "code",
        "colab": {}
      },
      "source": [
        "!pip install -q keras"
      ],
      "execution_count": null,
      "outputs": []
    },
    {
      "cell_type": "code",
      "metadata": {
        "id": "asAN39Jc3LoH",
        "colab_type": "code",
        "colab": {
          "base_uri": "https://localhost:8080/",
          "height": 53
        },
        "outputId": "728d0f8d-b2cb-41b9-ff5e-04b4bcb5bddd"
      },
      "source": [
        "from keras.datasets import imdb\n",
        "(train_data,train_labels),(test_data,test_labels) = imdb.load_data(num_words=10000)"
      ],
      "execution_count": null,
      "outputs": [
        {
          "output_type": "stream",
          "text": [
            "Downloading data from https://s3.amazonaws.com/text-datasets/imdb.npz\n",
            "17465344/17464789 [==============================] - 0s 0us/step\n"
          ],
          "name": "stdout"
        }
      ]
    },
    {
      "cell_type": "code",
      "metadata": {
        "id": "Fk7PcPwA3lu0",
        "colab_type": "code",
        "colab": {
          "base_uri": "https://localhost:8080/",
          "height": 35
        },
        "outputId": "6008c3e8-21c4-4d7f-f473-bbc0cfdd59c9"
      },
      "source": [
        "train_labels[0]"
      ],
      "execution_count": null,
      "outputs": [
        {
          "output_type": "execute_result",
          "data": {
            "text/plain": [
              "1"
            ]
          },
          "metadata": {
            "tags": []
          },
          "execution_count": 5
        }
      ]
    },
    {
      "cell_type": "code",
      "metadata": {
        "id": "-kSJqNnT3-fK",
        "colab_type": "code",
        "colab": {
          "base_uri": "https://localhost:8080/",
          "height": 35
        },
        "outputId": "480d2cf5-7b96-4a5d-9624-44059f231af6"
      },
      "source": [
        "max([max(sequence) for sequence in train_data])"
      ],
      "execution_count": null,
      "outputs": [
        {
          "output_type": "execute_result",
          "data": {
            "text/plain": [
              "9999"
            ]
          },
          "metadata": {
            "tags": []
          },
          "execution_count": 8
        }
      ]
    },
    {
      "cell_type": "code",
      "metadata": {
        "id": "TMuX6yah3wh5",
        "colab_type": "code",
        "colab": {}
      },
      "source": [
        "import numpy as np"
      ],
      "execution_count": null,
      "outputs": []
    },
    {
      "cell_type": "code",
      "metadata": {
        "id": "sIhrGGHy4hNa",
        "colab_type": "code",
        "colab": {}
      },
      "source": [
        "def vectorize_sequence(sequences,dimension=10000):\n",
        "  results = np.zeros((len(sequences),dimension))\n",
        "  for i,sequence in enumerate(sequences):\n",
        "    results[i,sequence] = 1\n",
        "  return results\n",
        "x_train = vectorize_sequence(train_data)\n",
        "x_test = vectorize_sequence(test_data)\n"
      ],
      "execution_count": null,
      "outputs": []
    },
    {
      "cell_type": "code",
      "metadata": {
        "id": "LzmPB5ck8e9V",
        "colab_type": "code",
        "colab": {
          "base_uri": "https://localhost:8080/",
          "height": 35
        },
        "outputId": "6ea0c839-7265-46cc-dfd9-3793c5413c4e"
      },
      "source": [
        "x_train[0]"
      ],
      "execution_count": null,
      "outputs": [
        {
          "output_type": "execute_result",
          "data": {
            "text/plain": [
              "array([0., 1., 1., ..., 0., 0., 0.])"
            ]
          },
          "metadata": {
            "tags": []
          },
          "execution_count": 11
        }
      ]
    },
    {
      "cell_type": "code",
      "metadata": {
        "id": "g01k5qy_8igc",
        "colab_type": "code",
        "colab": {}
      },
      "source": [
        "y_train = np.asarray(train_labels).astype('float32')\n",
        "y_test = np.asarray(test_labels).astype('float32')"
      ],
      "execution_count": null,
      "outputs": []
    },
    {
      "cell_type": "code",
      "metadata": {
        "id": "eb9fhQMu82io",
        "colab_type": "code",
        "colab": {}
      },
      "source": [
        "from keras import models\n",
        "from keras import layers"
      ],
      "execution_count": null,
      "outputs": []
    },
    {
      "cell_type": "code",
      "metadata": {
        "id": "RUDeYmlm-2WD",
        "colab_type": "code",
        "colab": {}
      },
      "source": [
        "model = models.Sequential()\n",
        "model.add(layers.Dense(16,activation='relu',input_shape=(10000,)))\n",
        "model.add(layers.Dense(16,activation='relu'))\n",
        "model.add(layers.Dense(1,activation='sigmoid'))"
      ],
      "execution_count": null,
      "outputs": []
    },
    {
      "cell_type": "code",
      "metadata": {
        "id": "giD3Fa7E_UEB",
        "colab_type": "code",
        "colab": {}
      },
      "source": [
        "from keras import optimizers\n",
        "model.compile(optimizer=optimizers.RMSprop(lr=0.001),loss='binary_crossentropy',metrics=['accuracy'])"
      ],
      "execution_count": null,
      "outputs": []
    },
    {
      "cell_type": "code",
      "metadata": {
        "id": "wj9P0ipvAMqR",
        "colab_type": "code",
        "colab": {}
      },
      "source": [
        "x_val = x_train[:10000]\n",
        "partial_x_train = x_train[10000:]\n",
        "y_val = y_train[:10000]\n",
        "partial_y_train = y_train[10000:]"
      ],
      "execution_count": null,
      "outputs": []
    },
    {
      "cell_type": "code",
      "metadata": {
        "id": "stC2RBeEDax9",
        "colab_type": "code",
        "colab": {}
      },
      "source": [
        "model.compile(optimizer='rmsprop',loss='binary_crossentropy',metrics=['acc'])"
      ],
      "execution_count": null,
      "outputs": []
    },
    {
      "cell_type": "code",
      "metadata": {
        "id": "6CEemuC4Dzfr",
        "colab_type": "code",
        "colab": {
          "base_uri": "https://localhost:8080/",
          "height": 762
        },
        "outputId": "e1eb1d4b-19ae-417e-b4db-b2333fee4b18"
      },
      "source": [
        "history = model.fit(partial_x_train,partial_y_train,epochs=20,batch_size=512,validation_data=(x_val,y_val))"
      ],
      "execution_count": null,
      "outputs": [
        {
          "output_type": "stream",
          "text": [
            "Train on 15000 samples, validate on 10000 samples\n",
            "Epoch 1/20\n",
            "15000/15000 [==============================] - 1s 99us/step - loss: 3.1120e-05 - acc: 1.0000 - val_loss: 1.4361 - val_acc: 0.8527\n",
            "Epoch 2/20\n",
            "15000/15000 [==============================] - 1s 94us/step - loss: 1.9482e-05 - acc: 1.0000 - val_loss: 1.4415 - val_acc: 0.8526\n",
            "Epoch 3/20\n",
            "15000/15000 [==============================] - 1s 94us/step - loss: 1.5198e-05 - acc: 1.0000 - val_loss: 1.4587 - val_acc: 0.8532\n",
            "Epoch 4/20\n",
            "15000/15000 [==============================] - 1s 93us/step - loss: 1.1955e-05 - acc: 1.0000 - val_loss: 1.5038 - val_acc: 0.8544\n",
            "Epoch 5/20\n",
            "15000/15000 [==============================] - 1s 94us/step - loss: 0.0014 - acc: 0.9997 - val_loss: 1.5519 - val_acc: 0.8531\n",
            "Epoch 6/20\n",
            "15000/15000 [==============================] - 1s 95us/step - loss: 8.1131e-06 - acc: 1.0000 - val_loss: 1.5546 - val_acc: 0.8542\n",
            "Epoch 7/20\n",
            "15000/15000 [==============================] - 1s 93us/step - loss: 6.5913e-06 - acc: 1.0000 - val_loss: 1.5597 - val_acc: 0.8541\n",
            "Epoch 8/20\n",
            "15000/15000 [==============================] - 1s 93us/step - loss: 5.7877e-06 - acc: 1.0000 - val_loss: 1.5729 - val_acc: 0.8535\n",
            "Epoch 9/20\n",
            "15000/15000 [==============================] - 1s 93us/step - loss: 4.9186e-06 - acc: 1.0000 - val_loss: 1.6090 - val_acc: 0.8533\n",
            "Epoch 10/20\n",
            "15000/15000 [==============================] - 1s 93us/step - loss: 6.5416e-04 - acc: 0.9997 - val_loss: 1.6606 - val_acc: 0.8543\n",
            "Epoch 11/20\n",
            "15000/15000 [==============================] - 1s 94us/step - loss: 2.9669e-06 - acc: 1.0000 - val_loss: 1.6639 - val_acc: 0.8538\n",
            "Epoch 12/20\n",
            "15000/15000 [==============================] - 1s 93us/step - loss: 2.7372e-06 - acc: 1.0000 - val_loss: 1.6687 - val_acc: 0.8540\n",
            "Epoch 13/20\n",
            "15000/15000 [==============================] - 1s 95us/step - loss: 2.5087e-06 - acc: 1.0000 - val_loss: 1.6774 - val_acc: 0.8546\n",
            "Epoch 14/20\n",
            "15000/15000 [==============================] - 1s 94us/step - loss: 2.2636e-06 - acc: 1.0000 - val_loss: 1.6949 - val_acc: 0.8535\n",
            "Epoch 15/20\n",
            "15000/15000 [==============================] - 1s 95us/step - loss: 1.8495e-06 - acc: 1.0000 - val_loss: 1.7465 - val_acc: 0.8524\n",
            "Epoch 16/20\n",
            "15000/15000 [==============================] - 1s 95us/step - loss: 0.0012 - acc: 0.9997 - val_loss: 1.8311 - val_acc: 0.8559\n",
            "Epoch 17/20\n",
            "15000/15000 [==============================] - 1s 95us/step - loss: 1.1849e-06 - acc: 1.0000 - val_loss: 1.8270 - val_acc: 0.8556\n",
            "Epoch 18/20\n",
            "15000/15000 [==============================] - 1s 93us/step - loss: 9.6114e-07 - acc: 1.0000 - val_loss: 1.8292 - val_acc: 0.8555\n",
            "Epoch 19/20\n",
            "15000/15000 [==============================] - 1s 94us/step - loss: 8.7493e-07 - acc: 1.0000 - val_loss: 1.8334 - val_acc: 0.8547\n",
            "Epoch 20/20\n",
            "15000/15000 [==============================] - 1s 94us/step - loss: 8.0085e-07 - acc: 1.0000 - val_loss: 1.8404 - val_acc: 0.8548\n"
          ],
          "name": "stdout"
        }
      ]
    },
    {
      "cell_type": "code",
      "metadata": {
        "id": "S85VlEsCEIYk",
        "colab_type": "code",
        "colab": {
          "base_uri": "https://localhost:8080/",
          "height": 35
        },
        "outputId": "b407865f-26b3-47ce-f377-0af4eb7d8faa"
      },
      "source": [
        "results = model.evaluate(x_test,y_test)"
      ],
      "execution_count": null,
      "outputs": [
        {
          "output_type": "stream",
          "text": [
            "25000/25000 [==============================] - 2s 72us/step\n"
          ],
          "name": "stdout"
        }
      ]
    },
    {
      "cell_type": "code",
      "metadata": {
        "id": "rFtcJAciFqYG",
        "colab_type": "code",
        "colab": {
          "base_uri": "https://localhost:8080/",
          "height": 295
        },
        "outputId": "b92cf786-ceab-4a7b-fdab-03473783c745"
      },
      "source": [
        "import matplotlib.pyplot as plt\n",
        "history_dict = history.history\n",
        "loss_values = history_dict['loss']\n",
        "val_loss_values = history_dict['val_loss']\n",
        "epochs = range(1,len(history_dict['acc'])+1)\n",
        "plt.plot(epochs,loss_values,'bo',label='Training loss')\n",
        "plt.plot(epochs,val_loss_values,'b',label='Validation loss')\n",
        "plt.title('Training and Validation Loss')\n",
        "plt.xlabel('Epochs')\n",
        "plt.ylabel('Loss')\n",
        "plt.legend()\n",
        "plt.show()"
      ],
      "execution_count": null,
      "outputs": [
        {
          "output_type": "display_data",
          "data": {
            "image/png": "[encoded data removed]",
            "text/plain": [
              "<Figure size 432x288 with 1 Axes>"
            ]
          },
          "metadata": {
            "tags": [],
            "needs_background": "light"
          }
        }
      ]
    },
    {
      "cell_type": "code",
      "metadata": {
        "id": "EceMZ8O7E5kv",
        "colab_type": "code",
        "colab": {
          "base_uri": "https://localhost:8080/",
          "height": 35
        },
        "outputId": "838ea638-e551-483c-dd21-6c62774f49fb"
      },
      "source": [
        "results"
      ],
      "execution_count": null,
      "outputs": [
        {
          "output_type": "execute_result",
          "data": {
            "text/plain": [
              "[0.8848571354937553, 0.8486400246620178]"
            ]
          },
          "metadata": {
            "tags": []
          },
          "execution_count": 37
        }
      ]
    },
    {
      "cell_type": "code",
      "metadata": {
        "id": "l5HQHyxGE9Ih",
        "colab_type": "code",
        "colab": {
          "base_uri": "https://localhost:8080/",
          "height": 162
        },
        "outputId": "d0ce59d9-1667-4b42-8f4f-f00acc349c93"
      },
      "source": [
        "model.fit(x_train,y_train,epochs=3,batch_size=512,validation_data=(x_val,y_val))"
      ],
      "execution_count": null,
      "outputs": [
        {
          "output_type": "stream",
          "text": [
            "Train on 25000 samples, validate on 10000 samples\n",
            "Epoch 1/3\n",
            "25000/25000 [==============================] - 2s 85us/step - loss: 0.0909 - acc: 0.9748 - val_loss: 0.1449 - val_acc: 0.9561\n",
            "Epoch 2/3\n",
            "25000/25000 [==============================] - 2s 85us/step - loss: 0.0756 - acc: 0.9789 - val_loss: 0.1146 - val_acc: 0.9648\n",
            "Epoch 3/3\n",
            "25000/25000 [==============================] - 2s 83us/step - loss: 0.0626 - acc: 0.9821 - val_loss: 0.0920 - val_acc: 0.9735\n"
          ],
          "name": "stdout"
        },
        {
          "output_type": "execute_result",
          "data": {
            "text/plain": [
              "<keras.callbacks.callbacks.History at 0x7fb135a0f198>"
            ]
          },
          "metadata": {
            "tags": []
          },
          "execution_count": 48
        }
      ]
    },
    {
      "cell_type": "code",
      "metadata": {
        "id": "oPD65umGFWoL",
        "colab_type": "code",
        "colab": {
          "base_uri": "https://localhost:8080/",
          "height": 53
        },
        "outputId": "1e6d5b01-6d27-4064-8f7d-baf7de8411c2"
      },
      "source": [
        "results = model.evaluate(x_test,y_test)\n",
        "results"
      ],
      "execution_count": null,
      "outputs": [
        {
          "output_type": "stream",
          "text": [
            "25000/25000 [==============================] - 2s 66us/step\n"
          ],
          "name": "stdout"
        },
        {
          "output_type": "execute_result",
          "data": {
            "text/plain": [
              "[0.6286035150122643, 0.8508399724960327]"
            ]
          },
          "metadata": {
            "tags": []
          },
          "execution_count": 49
        }
      ]
    },
    {
      "cell_type": "code",
      "metadata": {
        "id": "moX_-B9PFb_1",
        "colab_type": "code",
        "colab": {
          "base_uri": "https://localhost:8080/",
          "height": 144
        },
        "outputId": "399f0892-6a00-4b6d-94ab-40c182e5fd75"
      },
      "source": [
        "model.predict(x_test)"
      ],
      "execution_count": null,
      "outputs": [
        {
          "output_type": "execute_result",
          "data": {
            "text/plain": [
              "array([[0.00625247],\n",
              "       [1.        ],\n",
              "       [0.80675083],\n",
              "       ...,\n",
              "       [0.06904048],\n",
              "       [0.06566051],\n",
              "       [0.9431013 ]], dtype=float32)"
            ]
          },
          "metadata": {
            "tags": []
          },
          "execution_count": 50
        }
      ]
    },
    {
      "cell_type": "code",
      "metadata": {
        "id": "zOtXTMMDHxUO",
        "colab_type": "code",
        "colab": {}
      },
      "source": [
        "model1 = models.Sequential()\n",
        "model1.add(layers.Dense(32,activation='relu',input_shape=(10000,)))\n",
        "model1.add(layers.Dense(32,activation='relu'))\n",
        "model1.add(layers.Dense(1,activation='sigmoid'))"
      ],
      "execution_count": null,
      "outputs": []
    },
    {
      "cell_type": "code",
      "metadata": {
        "id": "cEJ2HeoAJKnd",
        "colab_type": "code",
        "colab": {}
      },
      "source": [
        "model1.compile(optimizer='rmsprop',loss='binary_crossentropy',metrics=['acc'])"
      ],
      "execution_count": null,
      "outputs": []
    },
    {
      "cell_type": "code",
      "metadata": {
        "id": "uolJjyS6JUWR",
        "colab_type": "code",
        "colab": {
          "base_uri": "https://localhost:8080/",
          "height": 271
        },
        "outputId": "16bf45c4-b13f-4303-d9db-a06c6f0f008c"
      },
      "source": [
        "model1.fit(x_train,y_train,epochs=3,batch_size=512,validation_data=(x_val,y_val))\n",
        "model1.predict(x_test)"
      ],
      "execution_count": null,
      "outputs": [
        {
          "output_type": "stream",
          "text": [
            "Train on 25000 samples, validate on 10000 samples\n",
            "Epoch 1/3\n",
            "25000/25000 [==============================] - 3s 104us/step - loss: 0.4259 - acc: 0.8220 - val_loss: 0.2854 - val_acc: 0.8926\n",
            "Epoch 2/3\n",
            "25000/25000 [==============================] - 2s 98us/step - loss: 0.2395 - acc: 0.9120 - val_loss: 0.1770 - val_acc: 0.9430\n",
            "Epoch 3/3\n",
            "25000/25000 [==============================] - 2s 97us/step - loss: 0.1873 - acc: 0.9304 - val_loss: 0.1383 - val_acc: 0.9564\n"
          ],
          "name": "stdout"
        },
        {
          "output_type": "execute_result",
          "data": {
            "text/plain": [
              "array([[0.20049268],\n",
              "       [0.99958694],\n",
              "       [0.81521404],\n",
              "       ...,\n",
              "       [0.11750823],\n",
              "       [0.06833148],\n",
              "       [0.5162296 ]], dtype=float32)"
            ]
          },
          "metadata": {
            "tags": []
          },
          "execution_count": 56
        }
      ]
    },
    {
      "cell_type": "code",
      "metadata": {
        "id": "VJG0KLrPJbyY",
        "colab_type": "code",
        "colab": {
          "base_uri": "https://localhost:8080/",
          "height": 271
        },
        "outputId": "991bdae4-f5ee-4040-dd00-5d7a9c477425"
      },
      "source": [
        "model3 = models.Sequential()\n",
        "model3.add(layers.Dense(16,activation='relu',input_shape=(10000,)))\n",
        "model3.add(layers.Dense(16,activation='relu'))\n",
        "model3.add(layers.Dense(1,activation='sigmoid'))\n",
        "model3.compile(optimizer='rmsprop',loss='mse',metrics=['acc'])\n",
        "model3.fit(x_train,y_train,epochs=3,batch_size=512,validation_data=(x_val,y_val))\n",
        "model3.predict(x_test)"
      ],
      "execution_count": null,
      "outputs": [
        {
          "output_type": "stream",
          "text": [
            "Train on 25000 samples, validate on 10000 samples\n",
            "Epoch 1/3\n",
            "25000/25000 [==============================] - 2s 86us/step - loss: 0.1679 - acc: 0.7982 - val_loss: 0.1056 - val_acc: 0.8957\n",
            "Epoch 2/3\n",
            "25000/25000 [==============================] - 2s 83us/step - loss: 0.0852 - acc: 0.9074 - val_loss: 0.0650 - val_acc: 0.9284\n",
            "Epoch 3/3\n",
            "25000/25000 [==============================] - 2s 83us/step - loss: 0.0622 - acc: 0.9290 - val_loss: 0.0477 - val_acc: 0.9494\n"
          ],
          "name": "stdout"
        },
        {
          "output_type": "execute_result",
          "data": {
            "text/plain": [
              "array([[0.2609979 ],\n",
              "       [0.9847881 ],\n",
              "       [0.85203147],\n",
              "       ...,\n",
              "       [0.23961967],\n",
              "       [0.12084839],\n",
              "       [0.55290747]], dtype=float32)"
            ]
          },
          "metadata": {
            "tags": []
          },
          "execution_count": 61
        }
      ]
    },
    {
      "cell_type": "code",
      "metadata": {
        "id": "uKkf9n5xJ4O_",
        "colab_type": "code",
        "colab": {
          "base_uri": "https://localhost:8080/",
          "height": 271
        },
        "outputId": "f257d3d9-ed1e-46e6-82f0-09f0cc0a8110"
      },
      "source": [
        "model4 = models.Sequential()\n",
        "model4.add(layers.Dense(16,activation='tanh',input_shape=(10000,)))\n",
        "model4.add(layers.Dense(16,activation='tanh'))\n",
        "model4.add(layers.Dense(1,activation='sigmoid'))\n",
        "model4.compile(optimizer='rmsprop',loss='binary_crossentropy',metrics=['acc'])\n",
        "model4.fit(x_train,y_train,epochs=3,batch_size=512,validation_data=(x_val,y_val))\n",
        "model4.predict(x_test)"
      ],
      "execution_count": null,
      "outputs": [
        {
          "output_type": "stream",
          "text": [
            "Train on 25000 samples, validate on 10000 samples\n",
            "Epoch 1/3\n",
            "25000/25000 [==============================] - 2s 89us/step - loss: 0.4295 - acc: 0.8323 - val_loss: 0.2547 - val_acc: 0.9191\n",
            "Epoch 2/3\n",
            "25000/25000 [==============================] - 2s 83us/step - loss: 0.2349 - acc: 0.9141 - val_loss: 0.1703 - val_acc: 0.9432\n",
            "Epoch 3/3\n",
            "25000/25000 [==============================] - 2s 83us/step - loss: 0.1783 - acc: 0.9334 - val_loss: 0.1265 - val_acc: 0.9612\n"
          ],
          "name": "stdout"
        },
        {
          "output_type": "execute_result",
          "data": {
            "text/plain": [
              "array([[0.09402308],\n",
              "       [0.99615544],\n",
              "       [0.9664757 ],\n",
              "       ...,\n",
              "       [0.14457706],\n",
              "       [0.03931105],\n",
              "       [0.8401441 ]], dtype=float32)"
            ]
          },
          "metadata": {
            "tags": []
          },
          "execution_count": 62
        }
      ]
    },
    {
      "cell_type": "code",
      "metadata": {
        "id": "dJNNu6GhKhrc",
        "colab_type": "code",
        "colab": {
          "base_uri": "https://localhost:8080/",
          "height": 271
        },
        "outputId": "34ce6af0-934e-4ac6-b0e8-edb3a5bff73b"
      },
      "source": [
        "model5 = models.Sequential()\n",
        "model5.add(layers.Dense(64,activation='relu',input_shape=(10000,)))\n",
        "model5.add(layers.Dense(64,activation='relu'))\n",
        "model5.add(layers.Dense(1,activation='sigmoid'))\n",
        "model5.compile(optimizer='rmsprop',loss='binary_crossentropy',metrics=['acc'])\n",
        "model5.fit(x_train,y_train,epochs=3,batch_size=512,validation_data=(x_val,y_val))\n",
        "model5.predict(x_test)"
      ],
      "execution_count": null,
      "outputs": [
        {
          "output_type": "stream",
          "text": [
            "Train on 25000 samples, validate on 10000 samples\n",
            "Epoch 1/3\n",
            "25000/25000 [==============================] - 3s 127us/step - loss: 0.4174 - acc: 0.8160 - val_loss: 0.3189 - val_acc: 0.8672\n",
            "Epoch 2/3\n",
            "25000/25000 [==============================] - 3s 123us/step - loss: 0.2393 - acc: 0.9101 - val_loss: 0.1842 - val_acc: 0.9341\n",
            "Epoch 3/3\n",
            "25000/25000 [==============================] - 3s 123us/step - loss: 0.1790 - acc: 0.9320 - val_loss: 0.1380 - val_acc: 0.9519\n"
          ],
          "name": "stdout"
        },
        {
          "output_type": "execute_result",
          "data": {
            "text/plain": [
              "array([[0.10887295],\n",
              "       [0.9997169 ],\n",
              "       [0.42731863],\n",
              "       ...,\n",
              "       [0.07666349],\n",
              "       [0.03758523],\n",
              "       [0.31348455]], dtype=float32)"
            ]
          },
          "metadata": {
            "tags": []
          },
          "execution_count": 63
        }
      ]
    },
    {
      "cell_type": "code",
      "metadata": {
        "id": "zcFRSb_IK4iL",
        "colab_type": "code",
        "colab": {}
      },
      "source": [
        ""
      ],
      "execution_count": null,
      "outputs": []
    }
  ]
}